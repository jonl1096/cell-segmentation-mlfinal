{
 "cells": [
  {
   "cell_type": "code",
   "execution_count": 1,
   "metadata": {
    "collapsed": true
   },
   "outputs": [],
   "source": [
    "%matplotlib inline\n",
    "from ndreg import *\n",
    "import matplotlib\n",
    "import ndio.remote.neurodata as neurodata\n",
    "import numpy as np\n",
    "import cv2\n",
    "\n",
    "import plotly\n",
    "import plotly.graph_objs as graphobjs\n",
    "\n",
    "import nibabel as nib"
   ]
  },
  {
   "cell_type": "code",
   "execution_count": 2,
   "metadata": {
    "collapsed": true
   },
   "outputs": [],
   "source": [
    "def loadCsv(path):\n",
    "    \"\"\"Method for getting a numpy array from the csv file\"\"\"\n",
    "    points = []\n",
    "    with open(path, 'r') as infile:\n",
    "        for line in infile:\n",
    "            line = line.strip().split(',')\n",
    "            entry = [int(line[0]), int(line[1]), int(line[2]), int(line[3])]\n",
    "            points.append(entry)\n",
    "    points = np.array(points)\n",
    "    return points"
   ]
  },
  {
   "cell_type": "code",
   "execution_count": 3,
   "metadata": {
    "collapsed": true
   },
   "outputs": [],
   "source": [
    "def array_to_plot(points, token, resolution, outfile_name=\"\"):\n",
    "    \"\"\"Generates the plotly from the csv file.\"\"\"\n",
    "    # Type in the path to your csv file here\n",
    "    \n",
    "    thedata = points\n",
    "#     print(thedata)\n",
    "\n",
    "    # Set tupleResolution to resolution input parameter\n",
    "    tupleResolution = resolution;\n",
    "\n",
    "    # EG: for Aut1367, the spacing is (0.01872, 0.01872, 0.005).\n",
    "    xResolution = tupleResolution[0]\n",
    "    yResolution = tupleResolution[1]\n",
    "    zResolution = tupleResolution[2]\n",
    "    # Now, to get the mm image size, we can multiply all x, y, z\n",
    "    # to get the proper mm size when plotting.\n",
    "    \n",
    "#     print('asdf')\n",
    "#     x = [x * xResolution for x in thedata[:, 0]]\n",
    "#     print(x)\n",
    "\n",
    "    trace1 = graphobjs.Scatter3d(\n",
    "        x = [x * xResolution for x in thedata[:, 0]],\n",
    "        y = [x * yResolution for x in thedata[:, 1]],\n",
    "        z = [x * zResolution for x in thedata[:, 2]],\n",
    "        mode='markers',\n",
    "        marker=dict(\n",
    "            size=1.2,\n",
    "            color='cyan',                # set color to an array/list of desired values\n",
    "            colorscale='Viridis',   # choose a colorscale\n",
    "            opacity=0.15\n",
    "        )\n",
    "    )\n",
    "\n",
    "    data = [trace1]\n",
    "    layout = graphobjs.Layout(\n",
    "        margin=dict(\n",
    "            l=0,\n",
    "            r=0,\n",
    "            b=0,\n",
    "            t=0\n",
    "        ),\n",
    "        paper_bgcolor='rgb(0,0,0)',\n",
    "        plot_bgcolor='rgb(0,0,0)'\n",
    "    )\n",
    "\n",
    "    fig = graphobjs.Figure(data=data, layout=layout)\n",
    "#     print(self._token + \"plotly\")\n",
    "\n",
    "    make_sure_path_exists('plots')\n",
    "    \n",
    "    if outfile_name == \"\":\n",
    "        plotly.offline.plot(fig, filename= 'plots/' + token + \"_plot.html\")\n",
    "    else:\n",
    "        plotly.offline.plot(fig, filename= 'plots/' + outfile_name + \"_plot.html\")"
   ]
  },
  {
   "cell_type": "code",
   "execution_count": 4,
   "metadata": {
    "collapsed": true
   },
   "outputs": [],
   "source": [
    "import os\n",
    "import errno\n",
    "\n",
    "def make_sure_path_exists(path):\n",
    "    \"\"\"Check if the directory a file is going to be written to exists, and if not, create the directory.\"\"\"\n",
    "    try:\n",
    "        os.makedirs(path)\n",
    "    except OSError as exception:\n",
    "        if exception.errno != errno.EEXIST:\n",
    "            raise"
   ]
  },
  {
   "cell_type": "code",
   "execution_count": 8,
   "metadata": {
    "collapsed": false
   },
   "outputs": [
    {
     "name": "stdout",
     "output_type": "stream",
     "text": [
      "shape:\n",
      "(405, 272, 537)\n",
      "<class 'numpy.core.memmap.memmap'>\n",
      "max:\n",
      "3969\n"
     ]
    }
   ],
   "source": [
    "# plotting no histeq\n",
    "# full image\n",
    "temp_file_path = \"img/\" + \"Fear199\" + \".nii\"\n",
    "\n",
    "# Downsampled image\n",
    "# temp_file_path = \"img/\" + inToken + \"_ds.nii\"\n",
    "\n",
    "# Histogram Equilized image\n",
    "# temp_file_path = \"histeq/\" + inToken + \"_histeq.nii\"\n",
    "\n",
    "num_points = 7500\n",
    "\n",
    "temp_img = nib.load(temp_file_path)\n",
    "\n",
    "## Sanity check for shape\n",
    "temp_img.shape\n",
    "\n",
    "## Convert into np array (or memmap in this case)\n",
    "temp_data = temp_img.get_data()\n",
    "temp_shape = temp_img.shape\n",
    "temp_max = np.max(temp_data)\n",
    "\n",
    "print('shape:')\n",
    "print temp_data.shape\n",
    "print type(temp_data)\n",
    "\n",
    "print('max:')\n",
    "print(temp_max)\n",
    "\n",
    "# print(temp_data)\n",
    "\n",
    "\n"
   ]
  },
  {
   "cell_type": "code",
   "execution_count": 15,
   "metadata": {
    "collapsed": false
   },
   "outputs": [
    {
     "data": {
      "text/plain": [
       "[<matplotlib.lines.Line2D at 0x7f14d3f98750>]"
      ]
     },
     "execution_count": 15,
     "metadata": {},
     "output_type": "execute_result"
    },
    {
     "data": {
      "image/png": "[encoded data removed]",
      "text/plain": [
       "<matplotlib.figure.Figure at 0x7f14dea9b310>"
      ]
     },
     "metadata": {},
     "output_type": "display_data"
    }
   ],
   "source": [
    "(values, bins) = np.histogram(temp_data, bins=100, range=(0,500))\n",
    "plt.plot(bins[:-1], values)"
   ]
  },
  {
   "cell_type": "code",
   "execution_count": 11,
   "metadata": {
    "collapsed": false
   },
   "outputs": [
    {
     "name": "stdout",
     "output_type": "stream",
     "text": [
      "shape:\n",
      "(405, 272, 537)\n",
      "<class 'numpy.core.memmap.memmap'>\n"
     ]
    }
   ],
   "source": [
    "temp_threshold = 0.025\n",
    "filt = temp_data > temp_threshold * temp_max\n",
    "# filt = temp_data\n",
    "\n",
    "print('shape:')\n",
    "print filt.shape\n",
    "print type(filt)\n",
    "\n",
    "# print('max:')\n",
    "# print(filt)"
   ]
  },
  {
   "cell_type": "code",
   "execution_count": 13,
   "metadata": {
    "collapsed": true
   },
   "outputs": [],
   "source": [
    "data_points = np.where(filt)\n",
    "x = data_points[0]\n",
    "y = data_points[1]\n",
    "z = data_points[2]\n",
    "\n",
    "intens = temp_data[filt]\n",
    "intens = np.int16(255 * (np.float32(intens) / np.float32(temp_max)))"
   ]
  },
  {
   "cell_type": "code",
   "execution_count": null,
   "metadata": {
    "collapsed": true
   },
   "outputs": [],
   "source": [
    "print('shape:')\n",
    "print \n",
    "print type(filt)"
   ]
  },
  {
   "cell_type": "code",
   "execution_count": null,
   "metadata": {
    "collapsed": true
   },
   "outputs": [],
   "source": [
    "intens_shape = intens.shape\n",
    "\n",
    "total_points = intens.shape[0]\n",
    "\n",
    "fraction = num_points / float(total_points)\n",
    "\n",
    "if fraction < 1.0:\n",
    "    # np.random.random returns random floats in the half-open interval [0.0, 1.0)\n",
    "    filt = np.random.random(size=intens_shape) < fraction\n",
    "    print('v.shape:')\n",
    "    print(intens_shape)\n",
    "    print('x.size before filter: %d' % x.size)\n",
    "    print('y.size before filter: %d' % y.size)\n",
    "    print('z.size before filter: %d' % z.size)\n",
    "    print('v.size before filter: %d' % intens.size)\n",
    "    x = x[filt]\n",
    "    y = y[filt]\n",
    "    z = z[filt]\n",
    "    intens = intens[filt]\n",
    "    print('x.size after filter: %d' % x.size)\n",
    "    print('y.size after filter: %d' % y.size)\n",
    "    print('z.size after filter: %d' % z.size)\n",
    "    print('v.size after filter: %d' % intens.size)\n",
    "\n",
    "\n",
    "temp_points = np.vstack([x, y, z, intens])\n",
    "temp_points = np.transpose(temp_points)\n",
    "print(\"Num Points: %d\"%(temp_points.shape[0]))"
   ]
  },
  {
   "cell_type": "code",
   "execution_count": 5,
   "metadata": {
    "collapsed": true
   },
   "outputs": [],
   "source": [
    "resolution = (0.01872, 0.01872, 0.005)"
   ]
  },
  {
   "cell_type": "markdown",
   "metadata": {},
   "source": [
    "## Testing with downsampled img"
   ]
  },
  {
   "cell_type": "code",
   "execution_count": 22,
   "metadata": {
    "collapsed": false
   },
   "outputs": [
    {
     "name": "stdout",
     "output_type": "stream",
     "text": [
      "shape:\n",
      "(9, 6, 11)\n",
      "<class 'numpy.core.memmap.memmap'>\n",
      "max:\n",
      "568\n"
     ]
    }
   ],
   "source": [
    "# plotting no histeq\n",
    "# full image\n",
    "# temp_file_path = \"img/\" + \"Fear199\" + \".nii\"\n",
    "\n",
    "# Downsampled image\n",
    "temp_file_path = \"img/\" + \"Fear199\" + \"_ds.nii\"\n",
    "\n",
    "# Histogram Equilized image\n",
    "# temp_file_path = \"histeq/\" + inToken + \"_histeq.nii\"\n",
    "\n",
    "num_points = 7500\n",
    "\n",
    "temp_img = nib.load(temp_file_path)\n",
    "\n",
    "## Sanity check for shape\n",
    "temp_img.shape\n",
    "\n",
    "## Convert into np array (or memmap in this case)\n",
    "temp_data = temp_img.get_data()\n",
    "temp_shape = temp_img.shape\n",
    "temp_max = np.max(temp_data)\n",
    "\n",
    "print('shape:')\n",
    "print temp_data.shape\n",
    "print type(temp_data)\n",
    "\n",
    "print('max:')\n",
    "print(temp_max)\n"
   ]
  },
  {
   "cell_type": "code",
   "execution_count": 23,
   "metadata": {
    "collapsed": false
   },
   "outputs": [
    {
     "data": {
      "text/plain": [
       "[<matplotlib.lines.Line2D at 0x7f14db1039d0>]"
      ]
     },
     "execution_count": 23,
     "metadata": {},
     "output_type": "execute_result"
    },
    {
     "data": {
      "image/png": "[encoded data removed]",
      "text/plain": [
       "<matplotlib.figure.Figure at 0x7f14d3df52d0>"
      ]
     },
     "metadata": {},
     "output_type": "display_data"
    }
   ],
   "source": [
    "(values, bins) = np.histogram(temp_data, bins=100, range=(0,500))\n",
    "plt.plot(bins[:-1], values)"
   ]
  },
  {
   "cell_type": "code",
   "execution_count": 24,
   "metadata": {
    "collapsed": false
   },
   "outputs": [
    {
     "name": "stdout",
     "output_type": "stream",
     "text": [
      "shape:\n",
      "(9, 6, 11)\n",
      "<class 'numpy.core.memmap.memmap'>\n"
     ]
    }
   ],
   "source": [
    "temp_threshold = 0.025\n",
    "filt = temp_data > temp_threshold * temp_max\n",
    "# filt = temp_data\n",
    "\n",
    "print('shape:')\n",
    "print filt.shape\n",
    "print type(filt)\n",
    "\n",
    "# print('max:')\n",
    "# print(filt)"
   ]
  },
  {
   "cell_type": "code",
   "execution_count": 29,
   "metadata": {
    "collapsed": false
   },
   "outputs": [
    {
     "data": {
      "text/plain": [
       "[<matplotlib.lines.Line2D at 0x7f14de8dd590>]"
      ]
     },
     "execution_count": 29,
     "metadata": {},
     "output_type": "execute_result"
    },
    {
     "data": {
      "image/png": "[encoded data removed]",
      "text/plain": [
       "<matplotlib.figure.Figure at 0x7f14de8e08d0>"
      ]
     },
     "metadata": {},
     "output_type": "display_data"
    }
   ],
   "source": [
    "(values, bins) = np.histogram(filt, bins=100, range=(0,100))\n",
    "plt.plot(bins[:-1], values)"
   ]
  },
  {
   "cell_type": "code",
   "execution_count": 25,
   "metadata": {
    "collapsed": true
   },
   "outputs": [],
   "source": [
    "data_points = np.where(filt)\n",
    "x = data_points[0]\n",
    "y = data_points[1]\n",
    "z = data_points[2]\n",
    "\n",
    "intens = temp_data[filt]\n",
    "intens = np.int16(255 * (np.float32(intens) / np.float32(temp_max)))"
   ]
  },
  {
   "cell_type": "code",
   "execution_count": 26,
   "metadata": {
    "collapsed": false
   },
   "outputs": [
    {
     "name": "stdout",
     "output_type": "stream",
     "text": [
      "shape:\n",
      "(128,)\n",
      "<class 'numpy.core.memmap.memmap'>\n"
     ]
    }
   ],
   "source": [
    "print('shape:')\n",
    "print(intens.shape)\n",
    "print type(filt)"
   ]
  },
  {
   "cell_type": "code",
   "execution_count": null,
   "metadata": {
    "collapsed": true
   },
   "outputs": [],
   "source": []
  },
  {
   "cell_type": "code",
   "execution_count": null,
   "metadata": {
    "collapsed": true
   },
   "outputs": [],
   "source": []
  },
  {
   "cell_type": "code",
   "execution_count": null,
   "metadata": {
    "collapsed": true
   },
   "outputs": [],
   "source": []
  },
  {
   "cell_type": "code",
   "execution_count": null,
   "metadata": {
    "collapsed": true
   },
   "outputs": [],
   "source": []
  },
  {
   "cell_type": "code",
   "execution_count": null,
   "metadata": {
    "collapsed": true
   },
   "outputs": [],
   "source": []
  },
  {
   "cell_type": "code",
   "execution_count": null,
   "metadata": {
    "collapsed": true
   },
   "outputs": [],
   "source": []
  },
  {
   "cell_type": "markdown",
   "metadata": {},
   "source": [
    "## hist eq testing"
   ]
  },
  {
   "cell_type": "code",
   "execution_count": 27,
   "metadata": {
    "collapsed": true
   },
   "outputs": [],
   "source": [
    "path = \"img/Fear199.nii\"\n",
    "\n",
    "im = nib.load(path)\n",
    "\n",
    "im = im.get_data()\n",
    "img = im[:,:,:]\n",
    "\n",
    "shape = im.shape\n",
    "#affine = im.get_affine()"
   ]
  },
  {
   "cell_type": "code",
   "execution_count": 30,
   "metadata": {
    "collapsed": false
   },
   "outputs": [
    {
     "data": {
      "text/plain": [
       "[<matplotlib.lines.Line2D at 0x7f14de802810>]"
      ]
     },
     "execution_count": 30,
     "metadata": {},
     "output_type": "execute_result"
    },
    {
     "data": {
      "image/png": "[encoded data removed]",
      "text/plain": [
       "<matplotlib.figure.Figure at 0x7f14de915f10>"
      ]
     },
     "metadata": {},
     "output_type": "display_data"
    }
   ],
   "source": [
    "(values, bins) = np.histogram(im, bins=100, range=(0,500))\n",
    "plt.plot(bins[:-1], values)"
   ]
  },
  {
   "cell_type": "code",
   "execution_count": null,
   "metadata": {
    "collapsed": true
   },
   "outputs": [],
   "source": [
    "\n",
    "\n",
    "x_value = shape[0]\n",
    "y_value = shape[1]\n",
    "z_value = shape[2]\n",
    "\n",
    "#####################################################\n",
    "\n",
    "imgflat = img.reshape(-1)\n",
    "\n",
    "#img_grey = np.array(imgflat * 255, dtype = np.uint8)\n",
    "\n",
    "#img_eq = exposure.equalize_hist(img_grey)\n",
    "\n",
    "#new_img = img_eq.reshape(x_value, y_value, z_value)\n",
    "#globaleq = nib.Nifti1Image(new_img, np.eye(4))\n",
    "\n",
    "#nb.save(globaleq, '/home/albert/Thumbo/AutAglobaleq.nii')\n",
    "\n",
    "######################################################\n",
    "\n",
    "#clahe = cv2.createCLAHE(clipLimit=2.0, tileGridSize=(8,8))\n",
    "clahe = cv2.createCLAHE(clipLimit=2.0, tileGridSize=(8,8))\n",
    "\n",
    "img_grey = np.array(imgflat * 255, dtype = np.uint8)\n",
    "#threshed = cv2.adaptiveThreshold(img_grey, 255, cv2.ADAPTIVE_THRESH_MEAN_C, cv2.THRESH_BINARY, 3, 0)\n",
    "\n",
    "cl1 = clahe.apply(img_grey)\n",
    "\n"
   ]
  },
  {
   "cell_type": "code",
   "execution_count": null,
   "metadata": {
    "collapsed": true
   },
   "outputs": [],
   "source": [
    "#cv2.imwrite('clahe_2.jpg',cl1)\n",
    "#cv2.startWindowThread()\n",
    "#cv2.namedWindow(\"adaptive\")\n",
    "cv2.imshow(\"adaptive\", cl1)\n",
    "#cv2.imshow(\"adaptive\", threshed)\n",
    "#plt.imshow(threshed)\n",
    "\n"
   ]
  },
  {
   "cell_type": "code",
   "execution_count": null,
   "metadata": {
    "collapsed": true
   },
   "outputs": [],
   "source": [
    "localimgflat = cl1 #cl1.reshape(-1)\n",
    "\n",
    "newer_img = localimgflat.reshape(x_value, y_value, z_value)\n",
    "localeq = nib.Nifti1Image(newer_img, np.eye(4))\n",
    "\n",
    "dir_name = 'histeq'\n",
    "make_sure_path_exists(dir_name)\n",
    "nib.save(localeq, dir_name + '/' + inToken + '_histeq.nii')"
   ]
  }
 ],
 "metadata": {
  "kernelspec": {
   "display_name": "Python 2",
   "language": "python",
   "name": "python2"
  },
  "language_info": {
   "codemirror_mode": {
    "name": "ipython",
    "version": 2
   },
   "file_extension": ".py",
   "mimetype": "text/x-python",
   "name": "python",
   "nbconvert_exporter": "python",
   "pygments_lexer": "ipython2",
   "version": "2.7.12"
  }
 },
 "nbformat": 4,
 "nbformat_minor": 1
}
