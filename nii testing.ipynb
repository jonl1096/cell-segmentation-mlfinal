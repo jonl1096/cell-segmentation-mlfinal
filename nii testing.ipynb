{
 "cells": [
  {
   "cell_type": "code",
   "execution_count": 1,
   "metadata": {
    "collapsed": true
   },
   "outputs": [],
   "source": [
    "%matplotlib inline\n",
    "from ndreg import *\n",
    "import matplotlib\n",
    "import ndio.remote.neurodata as neurodata\n",
    "import numpy as np\n",
    "import cv2\n",
    "\n",
    "import plotly\n",
    "import plotly.graph_objs as graphobjs\n",
    "\n",
    "import nibabel as nib"
   ]
  },
  {
   "cell_type": "code",
   "execution_count": 2,
   "metadata": {
    "collapsed": true
   },
   "outputs": [],
   "source": [
    "def loadCsv(path):\n",
    "    \"\"\"Method for getting a numpy array from the csv file\"\"\"\n",
    "    points = []\n",
    "    with open(path, 'r') as infile:\n",
    "        for line in infile:\n",
    "            line = line.strip().split(',')\n",
    "            entry = [int(line[0]), int(line[1]), int(line[2]), int(line[3])]\n",
    "            points.append(entry)\n",
    "    points = np.array(points)\n",
    "    return points"
   ]
  },
  {
   "cell_type": "code",
   "execution_count": 3,
   "metadata": {
    "collapsed": true
   },
   "outputs": [],
   "source": [
    "def array_to_plot(points, token, resolution, outfile_name=\"\"):\n",
    "    \"\"\"Generates the plotly from the csv file.\"\"\"\n",
    "    # Type in the path to your csv file here\n",
    "    \n",
    "    thedata = points\n",
    "#     print(thedata)\n",
    "\n",
    "    # Set tupleResolution to resolution input parameter\n",
    "    tupleResolution = resolution;\n",
    "\n",
    "    # EG: for Aut1367, the spacing is (0.01872, 0.01872, 0.005).\n",
    "    xResolution = tupleResolution[0]\n",
    "    yResolution = tupleResolution[1]\n",
    "    zResolution = tupleResolution[2]\n",
    "    # Now, to get the mm image size, we can multiply all x, y, z\n",
    "    # to get the proper mm size when plotting.\n",
    "    \n",
    "#     print('asdf')\n",
    "#     x = [x * xResolution for x in thedata[:, 0]]\n",
    "#     print(x)\n",
    "\n",
    "    trace1 = graphobjs.Scatter3d(\n",
    "        x = [x * xResolution for x in thedata[:, 0]],\n",
    "        y = [x * yResolution for x in thedata[:, 1]],\n",
    "        z = [x * zResolution for x in thedata[:, 2]],\n",
    "        mode='markers',\n",
    "        marker=dict(\n",
    "            size=1.2,\n",
    "            color='cyan',                # set color to an array/list of desired values\n",
    "            colorscale='Viridis',   # choose a colorscale\n",
    "            opacity=0.15\n",
    "        )\n",
    "    )\n",
    "\n",
    "    data = [trace1]\n",
    "    layout = graphobjs.Layout(\n",
    "        margin=dict(\n",
    "            l=0,\n",
    "            r=0,\n",
    "            b=0,\n",
    "            t=0\n",
    "        ),\n",
    "        paper_bgcolor='rgb(0,0,0)',\n",
    "        plot_bgcolor='rgb(0,0,0)'\n",
    "    )\n",
    "\n",
    "    fig = graphobjs.Figure(data=data, layout=layout)\n",
    "#     print(self._token + \"plotly\")\n",
    "\n",
    "    make_sure_path_exists('plots')\n",
    "    \n",
    "    if outfile_name == \"\":\n",
    "        plotly.offline.plot(fig, filename= 'plots/' + token + \"_plot.html\")\n",
    "    else:\n",
    "        plotly.offline.plot(fig, filename= 'plots/' + outfile_name + \"_plot.html\")"
   ]
  },
  {
   "cell_type": "code",
   "execution_count": 4,
   "metadata": {
    "collapsed": true
   },
   "outputs": [],
   "source": [
    "import os\n",
    "import errno\n",
    "\n",
    "def make_sure_path_exists(path):\n",
    "    \"\"\"Check if the directory a file is going to be written to exists, and if not, create the directory.\"\"\"\n",
    "    try:\n",
    "        os.makedirs(path)\n",
    "    except OSError as exception:\n",
    "        if exception.errno != errno.EEXIST:\n",
    "            raise"
   ]
  },
  {
   "cell_type": "markdown",
   "metadata": {},
   "source": [
    "# Testing begins"
   ]
  },
  {
   "cell_type": "code",
   "execution_count": 8,
   "metadata": {
    "collapsed": false
   },
   "outputs": [
    {
     "name": "stdout",
     "output_type": "stream",
     "text": [
      "shape:\n",
      "(405, 272, 537)\n",
      "<class 'numpy.core.memmap.memmap'>\n",
      "max:\n",
      "3969\n"
     ]
    }
   ],
   "source": [
    "# plotting no histeq\n",
    "# full image\n",
    "temp_file_path = \"img/\" + \"Fear199\" + \".nii\"\n",
    "\n",
    "# Downsampled image\n",
    "# temp_file_path = \"img/\" + inToken + \"_ds.nii\"\n",
    "\n",
    "# Histogram Equilized image\n",
    "# temp_file_path = \"histeq/\" + inToken + \"_histeq.nii\"\n",
    "\n",
    "num_points = 7500\n",
    "\n",
    "temp_img = nib.load(temp_file_path)\n",
    "\n",
    "## Sanity check for shape\n",
    "temp_img.shape\n",
    "\n",
    "## Convert into np array (or memmap in this case)\n",
    "temp_data = temp_img.get_data()\n",
    "temp_shape = temp_img.shape\n",
    "temp_max = np.max(temp_data)\n",
    "\n",
    "print('shape:')\n",
    "print temp_data.shape\n",
    "print type(temp_data)\n",
    "\n",
    "print('max:')\n",
    "print(temp_max)\n",
    "\n",
    "# print(temp_data)\n",
    "\n",
    "\n"
   ]
  },
  {
   "cell_type": "code",
   "execution_count": 15,
   "metadata": {
    "collapsed": false
   },
   "outputs": [
    {
     "data": {
      "text/plain": [
       "[<matplotlib.lines.Line2D at 0x7f14d3f98750>]"
      ]
     },
     "execution_count": 15,
     "metadata": {},
     "output_type": "execute_result"
    },
    {
     "data": {
      "image/png": "[encoded data removed]",
      "text/plain": [
       "<matplotlib.figure.Figure at 0x7f14dea9b310>"
      ]
     },
     "metadata": {},
     "output_type": "display_data"
    }
   ],
   "source": [
    "(values, bins) = np.histogram(temp_data, bins=100, range=(0,500))\n",
    "plt.plot(bins[:-1], values)"
   ]
  },
  {
   "cell_type": "code",
   "execution_count": 11,
   "metadata": {
    "collapsed": false
   },
   "outputs": [
    {
     "name": "stdout",
     "output_type": "stream",
     "text": [
      "shape:\n",
      "(405, 272, 537)\n",
      "<class 'numpy.core.memmap.memmap'>\n"
     ]
    }
   ],
   "source": [
    "temp_threshold = 0.025\n",
    "filt = temp_data > temp_threshold * temp_max\n",
    "# filt = temp_data\n",
    "\n",
    "print('shape:')\n",
    "print filt.shape\n",
    "print type(filt)\n",
    "\n",
    "# print('max:')\n",
    "# print(filt)"
   ]
  },
  {
   "cell_type": "code",
   "execution_count": 13,
   "metadata": {
    "collapsed": true
   },
   "outputs": [],
   "source": [
    "data_points = np.where(filt)\n",
    "x = data_points[0]\n",
    "y = data_points[1]\n",
    "z = data_points[2]\n",
    "\n",
    "intens = temp_data[filt]\n",
    "intens = np.int16(255 * (np.float32(intens) / np.float32(temp_max)))"
   ]
  },
  {
   "cell_type": "code",
   "execution_count": null,
   "metadata": {
    "collapsed": true
   },
   "outputs": [],
   "source": [
    "print('shape:')\n",
    "print \n",
    "print type(filt)"
   ]
  },
  {
   "cell_type": "code",
   "execution_count": null,
   "metadata": {
    "collapsed": true
   },
   "outputs": [],
   "source": [
    "intens_shape = intens.shape\n",
    "\n",
    "total_points = intens.shape[0]\n",
    "\n",
    "fraction = num_points / float(total_points)\n",
    "\n",
    "if fraction < 1.0:\n",
    "    # np.random.random returns random floats in the half-open interval [0.0, 1.0)\n",
    "    filt = np.random.random(size=intens_shape) < fraction\n",
    "    print('v.shape:')\n",
    "    print(intens_shape)\n",
    "    print('x.size before filter: %d' % x.size)\n",
    "    print('y.size before filter: %d' % y.size)\n",
    "    print('z.size before filter: %d' % z.size)\n",
    "    print('v.size before filter: %d' % intens.size)\n",
    "    x = x[filt]\n",
    "    y = y[filt]\n",
    "    z = z[filt]\n",
    "    intens = intens[filt]\n",
    "    print('x.size after filter: %d' % x.size)\n",
    "    print('y.size after filter: %d' % y.size)\n",
    "    print('z.size after filter: %d' % z.size)\n",
    "    print('v.size after filter: %d' % intens.size)\n",
    "\n",
    "\n",
    "temp_points = np.vstack([x, y, z, intens])\n",
    "temp_points = np.transpose(temp_points)\n",
    "print(\"Num Points: %d\"%(temp_points.shape[0]))"
   ]
  },
  {
   "cell_type": "code",
   "execution_count": 5,
   "metadata": {
    "collapsed": true
   },
   "outputs": [],
   "source": [
    "resolution = (0.01872, 0.01872, 0.005)"
   ]
  },
  {
   "cell_type": "markdown",
   "metadata": {},
   "source": [
    "## Testing with downsampled img"
   ]
  },
  {
   "cell_type": "code",
   "execution_count": 22,
   "metadata": {
    "collapsed": false
   },
   "outputs": [
    {
     "name": "stdout",
     "output_type": "stream",
     "text": [
      "shape:\n",
      "(9, 6, 11)\n",
      "<class 'numpy.core.memmap.memmap'>\n",
      "max:\n",
      "568\n"
     ]
    }
   ],
   "source": [
    "# plotting no histeq\n",
    "# full image\n",
    "# temp_file_path = \"img/\" + \"Fear199\" + \".nii\"\n",
    "\n",
    "# Downsampled image\n",
    "temp_file_path = \"img/\" + \"Fear199\" + \"_ds.nii\"\n",
    "\n",
    "# Histogram Equilized image\n",
    "# temp_file_path = \"histeq/\" + inToken + \"_histeq.nii\"\n",
    "\n",
    "num_points = 7500\n",
    "\n",
    "temp_img = nib.load(temp_file_path)\n",
    "\n",
    "## Sanity check for shape\n",
    "temp_img.shape\n",
    "\n",
    "## Convert into np array (or memmap in this case)\n",
    "temp_data = temp_img.get_data()\n",
    "temp_shape = temp_img.shape\n",
    "temp_max = np.max(temp_data)\n",
    "\n",
    "print('shape:')\n",
    "print temp_data.shape\n",
    "print type(temp_data)\n",
    "\n",
    "print('max:')\n",
    "print(temp_max)\n"
   ]
  },
  {
   "cell_type": "code",
   "execution_count": 23,
   "metadata": {
    "collapsed": false
   },
   "outputs": [
    {
     "data": {
      "text/plain": [
       "[<matplotlib.lines.Line2D at 0x7f14db1039d0>]"
      ]
     },
     "execution_count": 23,
     "metadata": {},
     "output_type": "execute_result"
    },
    {
     "data": {
      "image/png": "[encoded data removed]",
      "text/plain": [
       "<matplotlib.figure.Figure at 0x7f14d3df52d0>"
      ]
     },
     "metadata": {},
     "output_type": "display_data"
    }
   ],
   "source": [
    "(values, bins) = np.histogram(temp_data, bins=100, range=(0,500))\n",
    "plt.plot(bins[:-1], values)"
   ]
  },
  {
   "cell_type": "code",
   "execution_count": 24,
   "metadata": {
    "collapsed": false
   },
   "outputs": [
    {
     "name": "stdout",
     "output_type": "stream",
     "text": [
      "shape:\n",
      "(9, 6, 11)\n",
      "<class 'numpy.core.memmap.memmap'>\n"
     ]
    }
   ],
   "source": [
    "temp_threshold = 0.025\n",
    "filt = temp_data > temp_threshold * temp_max\n",
    "# filt = temp_data\n",
    "\n",
    "print('shape:')\n",
    "print filt.shape\n",
    "print type(filt)\n",
    "\n",
    "# print('max:')\n",
    "# print(filt)"
   ]
  },
  {
   "cell_type": "code",
   "execution_count": 29,
   "metadata": {
    "collapsed": false
   },
   "outputs": [
    {
     "data": {
      "text/plain": [
       "[<matplotlib.lines.Line2D at 0x7f14de8dd590>]"
      ]
     },
     "execution_count": 29,
     "metadata": {},
     "output_type": "execute_result"
    },
    {
     "data": {
      "image/png": "[encoded data removed]",
      "text/plain": [
       "<matplotlib.figure.Figure at 0x7f14de8e08d0>"
      ]
     },
     "metadata": {},
     "output_type": "display_data"
    }
   ],
   "source": [
    "(values, bins) = np.histogram(filt, bins=100, range=(0,100))\n",
    "plt.plot(bins[:-1], values)"
   ]
  },
  {
   "cell_type": "code",
   "execution_count": 25,
   "metadata": {
    "collapsed": true
   },
   "outputs": [],
   "source": [
    "data_points = np.where(filt)\n",
    "x = data_points[0]\n",
    "y = data_points[1]\n",
    "z = data_points[2]\n",
    "\n",
    "intens = temp_data[filt]\n",
    "intens = np.int16(255 * (np.float32(intens) / np.float32(temp_max)))"
   ]
  },
  {
   "cell_type": "code",
   "execution_count": 26,
   "metadata": {
    "collapsed": false
   },
   "outputs": [
    {
     "name": "stdout",
     "output_type": "stream",
     "text": [
      "shape:\n",
      "(128,)\n",
      "<class 'numpy.core.memmap.memmap'>\n"
     ]
    }
   ],
   "source": [
    "print('shape:')\n",
    "print(intens.shape)\n",
    "print type(filt)"
   ]
  },
  {
   "cell_type": "code",
   "execution_count": null,
   "metadata": {
    "collapsed": true
   },
   "outputs": [],
   "source": []
  },
  {
   "cell_type": "code",
   "execution_count": null,
   "metadata": {
    "collapsed": true
   },
   "outputs": [],
   "source": []
  },
  {
   "cell_type": "code",
   "execution_count": null,
   "metadata": {
    "collapsed": true
   },
   "outputs": [],
   "source": []
  },
  {
   "cell_type": "code",
   "execution_count": null,
   "metadata": {
    "collapsed": true
   },
   "outputs": [],
   "source": []
  },
  {
   "cell_type": "code",
   "execution_count": null,
   "metadata": {
    "collapsed": true
   },
   "outputs": [],
   "source": []
  },
  {
   "cell_type": "code",
   "execution_count": null,
   "metadata": {
    "collapsed": true
   },
   "outputs": [],
   "source": []
  },
  {
   "cell_type": "markdown",
   "metadata": {},
   "source": [
    "## hist eq testing"
   ]
  },
  {
   "cell_type": "code",
   "execution_count": 5,
   "metadata": {
    "collapsed": true
   },
   "outputs": [],
   "source": [
    "path = \"img/Fear199.nii\"\n",
    "\n",
    "im = nib.load(path)\n",
    "\n",
    "im = im.get_data()\n",
    "img = im[:,:,:]\n",
    "\n",
    "shape = im.shape\n",
    "#affine = im.get_affine()"
   ]
  },
  {
   "cell_type": "code",
   "execution_count": 16,
   "metadata": {
    "collapsed": true
   },
   "outputs": [
    {
     "name": "stdout",
     "output_type": "stream",
     "text": [
      "[[[0 0 0 ..., 0 0 0]\n",
      "  [0 0 0 ..., 0 0 0]\n",
      "  [0 0 0 ..., 0 0 0]\n",
      "  ..., \n",
      "  [0 0 0 ..., 1 0 1]\n",
      "  [0 0 0 ..., 0 0 0]\n",
      "  [0 0 0 ..., 0 0 0]]\n",
      "\n",
      " [[0 0 0 ..., 0 0 0]\n",
      "  [0 0 0 ..., 2 0 0]\n",
      "  [0 0 0 ..., 0 2 0]\n",
      "  ..., \n",
      "  [0 0 0 ..., 2 2 0]\n",
      "  [0 0 0 ..., 0 0 0]\n",
      "  [0 0 0 ..., 0 2 0]]\n",
      "\n",
      " [[0 0 0 ..., 0 3 0]\n",
      "  [0 0 0 ..., 1 5 0]\n",
      "  [0 0 0 ..., 1 0 0]\n",
      "  ..., \n",
      "  [0 0 0 ..., 0 0 0]\n",
      "  [0 0 0 ..., 1 2 0]\n",
      "  [0 0 0 ..., 1 3 0]]\n",
      "\n",
      " ..., \n",
      " [[0 0 0 ..., 0 0 0]\n",
      "  [0 0 0 ..., 0 0 0]\n",
      "  [0 0 0 ..., 0 0 0]\n",
      "  ..., \n",
      "  [0 0 0 ..., 0 0 0]\n",
      "  [0 0 0 ..., 0 0 0]\n",
      "  [0 0 0 ..., 0 0 0]]\n",
      "\n",
      " [[0 0 0 ..., 0 0 0]\n",
      "  [0 0 0 ..., 0 0 0]\n",
      "  [0 0 0 ..., 0 0 0]\n",
      "  ..., \n",
      "  [0 0 0 ..., 0 0 0]\n",
      "  [0 0 0 ..., 0 0 0]\n",
      "  [0 0 0 ..., 0 0 0]]\n",
      "\n",
      " [[0 0 0 ..., 0 0 0]\n",
      "  [0 0 0 ..., 0 0 0]\n",
      "  [0 0 0 ..., 0 0 0]\n",
      "  ..., \n",
      "  [0 0 0 ..., 0 0 0]\n",
      "  [0 0 0 ..., 0 0 0]\n",
      "  [0 0 0 ..., 0 0 0]]]\n"
     ]
    }
   ],
   "source": [
    "print(im)"
   ]
  },
  {
   "cell_type": "code",
   "execution_count": 6,
   "metadata": {
    "collapsed": false
   },
   "outputs": [
    {
     "data": {
      "text/plain": [
       "[<matplotlib.lines.Line2D at 0x7f013cddf510>]"
      ]
     },
     "execution_count": 6,
     "metadata": {},
     "output_type": "execute_result"
    },
    {
     "data": {
      "image/png": "[encoded data removed]",
      "text/plain": [
       "<matplotlib.figure.Figure at 0x7f0143f88290>"
      ]
     },
     "metadata": {},
     "output_type": "display_data"
    }
   ],
   "source": [
    "(values, bins) = np.histogram(im, bins=100, range=(0,500))\n",
    "plt.plot(bins[:-1], values)"
   ]
  },
  {
   "cell_type": "code",
   "execution_count": 23,
   "metadata": {
    "collapsed": false
   },
   "outputs": [
    {
     "name": "stdout",
     "output_type": "stream",
     "text": [
      "(405, 272, 537)\n",
      "[[[0 0 0 ..., 0 0 0]\n",
      "  [0 0 0 ..., 0 0 0]\n",
      "  [0 0 0 ..., 0 0 0]\n",
      "  ..., \n",
      "  [0 0 0 ..., 1 0 1]\n",
      "  [0 0 0 ..., 0 0 0]\n",
      "  [0 0 0 ..., 0 0 0]]\n",
      "\n",
      " [[0 0 0 ..., 0 0 0]\n",
      "  [0 0 0 ..., 2 0 0]\n",
      "  [0 0 0 ..., 0 2 0]\n",
      "  ..., \n",
      "  [0 0 0 ..., 2 2 0]\n",
      "  [0 0 0 ..., 0 0 0]\n",
      "  [0 0 0 ..., 0 2 0]]\n",
      "\n",
      " [[0 0 0 ..., 0 3 0]\n",
      "  [0 0 0 ..., 1 5 0]\n",
      "  [0 0 0 ..., 1 0 0]\n",
      "  ..., \n",
      "  [0 0 0 ..., 0 0 0]\n",
      "  [0 0 0 ..., 1 2 0]\n",
      "  [0 0 0 ..., 1 3 0]]\n",
      "\n",
      " ..., \n",
      " [[0 0 0 ..., 0 0 0]\n",
      "  [0 0 0 ..., 0 0 0]\n",
      "  [0 0 0 ..., 0 0 0]\n",
      "  ..., \n",
      "  [0 0 0 ..., 0 0 0]\n",
      "  [0 0 0 ..., 0 0 0]\n",
      "  [0 0 0 ..., 0 0 0]]\n",
      "\n",
      " [[0 0 0 ..., 0 0 0]\n",
      "  [0 0 0 ..., 0 0 0]\n",
      "  [0 0 0 ..., 0 0 0]\n",
      "  ..., \n",
      "  [0 0 0 ..., 0 0 0]\n",
      "  [0 0 0 ..., 0 0 0]\n",
      "  [0 0 0 ..., 0 0 0]]\n",
      "\n",
      " [[0 0 0 ..., 0 0 0]\n",
      "  [0 0 0 ..., 0 0 0]\n",
      "  [0 0 0 ..., 0 0 0]\n",
      "  ..., \n",
      "  [0 0 0 ..., 0 0 0]\n",
      "  [0 0 0 ..., 0 0 0]\n",
      "  [0 0 0 ..., 0 0 0]]]\n"
     ]
    }
   ],
   "source": [
    "print(img.shape)\n",
    "print(img)"
   ]
  },
  {
   "cell_type": "code",
   "execution_count": 9,
   "metadata": {
    "collapsed": true
   },
   "outputs": [],
   "source": [
    "temp = img.reshape(-1)"
   ]
  },
  {
   "cell_type": "code",
   "execution_count": 11,
   "metadata": {
    "collapsed": false
   },
   "outputs": [
    {
     "name": "stdout",
     "output_type": "stream",
     "text": [
      "[0 0 0 ..., 0 0 0]\n"
     ]
    }
   ],
   "source": [
    "print(temp)"
   ]
  },
  {
   "cell_type": "code",
   "execution_count": 13,
   "metadata": {
    "collapsed": true
   },
   "outputs": [],
   "source": [
    "temp2 = temp.reshape(-1)"
   ]
  },
  {
   "cell_type": "code",
   "execution_count": 14,
   "metadata": {
    "collapsed": false
   },
   "outputs": [
    {
     "name": "stdout",
     "output_type": "stream",
     "text": [
      "[0 0 0 ..., 0 0 0]\n"
     ]
    }
   ],
   "source": [
    "print(temp2)"
   ]
  },
  {
   "cell_type": "code",
   "execution_count": 15,
   "metadata": {
    "collapsed": true
   },
   "outputs": [],
   "source": [
    "x_value = shape[0]\n",
    "y_value = shape[1]\n",
    "z_value = shape[2]\n",
    "\n",
    "#####################################################\n",
    "\n",
    "imgflat = img.reshape(-1)\n",
    "\n",
    "#img_grey = np.array(imgflat * 255, dtype = np.uint8)\n",
    "\n",
    "#img_eq = exposure.equalize_hist(img_grey)\n",
    "\n",
    "#new_img = img_eq.reshape(x_value, y_value, z_value)\n",
    "#globaleq = nib.Nifti1Image(new_img, np.eye(4))\n",
    "\n",
    "#nb.save(globaleq, '/home/albert/Thumbo/AutAglobaleq.nii')\n",
    "\n",
    "######################################################\n",
    "\n",
    "#clahe = cv2.createCLAHE(clipLimit=2.0, tileGridSize=(8,8))\n",
    "clahe = cv2.createCLAHE(clipLimit=2.0, tileGridSize=(8,8))"
   ]
  },
  {
   "cell_type": "code",
   "execution_count": 16,
   "metadata": {
    "collapsed": false
   },
   "outputs": [],
   "source": [
    "img_grey = np.array(imgflat * 255, dtype = np.uint8)\n",
    "#threshed = cv2.adaptiveThreshold(img_grey, 255, cv2.ADAPTIVE_THRESH_MEAN_C, cv2.THRESH_BINARY, 3, 0)\n"
   ]
  },
  {
   "cell_type": "code",
   "execution_count": 17,
   "metadata": {
    "collapsed": false
   },
   "outputs": [
    {
     "name": "stdout",
     "output_type": "stream",
     "text": [
      "[0 0 0 ..., 0 0 0]\n"
     ]
    }
   ],
   "source": [
    "print(img_grey)"
   ]
  },
  {
   "cell_type": "code",
   "execution_count": null,
   "metadata": {
    "collapsed": true
   },
   "outputs": [],
   "source": [
    "cl1 = clahe.apply(img_grey)\n",
    "\n",
    "# DANGER\n",
    "# cl2 = clahe.apply(img)\n"
   ]
  },
  {
   "cell_type": "code",
   "execution_count": 18,
   "metadata": {
    "collapsed": false
   },
   "outputs": [
    {
     "name": "stdout",
     "output_type": "stream",
     "text": [
      "[[3]\n",
      " [3]\n",
      " [3]\n",
      " ..., \n",
      " [3]\n",
      " [3]\n",
      " [3]]\n"
     ]
    }
   ],
   "source": [
    "print(cl1)"
   ]
  },
  {
   "cell_type": "code",
   "execution_count": 19,
   "metadata": {
    "collapsed": false
   },
   "outputs": [
    {
     "data": {
      "text/plain": [
       "[<matplotlib.lines.Line2D at 0x7f013cc8bdd0>]"
      ]
     },
     "execution_count": 19,
     "metadata": {},
     "output_type": "execute_result"
    },
    {
     "data": {
      "image/png": "[encoded data removed]",
      "text/plain": [
       "<matplotlib.figure.Figure at 0x7f013cd15d50>"
      ]
     },
     "metadata": {},
     "output_type": "display_data"
    }
   ],
   "source": [
    "(values, bins) = np.histogram(cl1, bins=100, range=(0,500))\n",
    "plt.plot(bins[:-1], values)"
   ]
  },
  {
   "cell_type": "code",
   "execution_count": 9,
   "metadata": {
    "collapsed": true
   },
   "outputs": [
    {
     "ename": "TypeError",
     "evalue": "in method 'StatisticsImageFilter_Execute', argument 2 of type 'itk::simple::Image const &'",
     "output_type": "error",
     "traceback": [
      "\u001b[0;31m---------------------------------------------------------------------------\u001b[0m",
      "\u001b[0;31mTypeError\u001b[0m                                 Traceback (most recent call last)",
      "\u001b[0;32m<ipython-input-9-a42822886e35>\u001b[0m in \u001b[0;36m<module>\u001b[0;34m()\u001b[0m\n\u001b[1;32m      6\u001b[0m \u001b[0;31m#plt.imshow(threshed)\u001b[0m\u001b[0;34m\u001b[0m\u001b[0;34m\u001b[0m\u001b[0m\n\u001b[1;32m      7\u001b[0m \u001b[0;34m\u001b[0m\u001b[0m\n\u001b[0;32m----> 8\u001b[0;31m \u001b[0mimgShow\u001b[0m\u001b[0;34m(\u001b[0m\u001b[0mcl1\u001b[0m\u001b[0;34m,\u001b[0m \u001b[0mvmax\u001b[0m \u001b[0;34m=\u001b[0m \u001b[0;36m500\u001b[0m\u001b[0;34m)\u001b[0m\u001b[0;34m\u001b[0m\u001b[0m\n\u001b[0m",
      "\u001b[0;32m/root/.local/lib/python2.7/site-packages/ndreg-0.0.1-py2.7.egg/ndreg/ndreg.pyc\u001b[0m in \u001b[0;36mimgShow\u001b[0;34m(img, vmin, vmax, cmap, alpha, newFig, numSlices)\u001b[0m\n\u001b[1;32m   1162\u001b[0m     \u001b[0;32mif\u001b[0m \u001b[0;34m(\u001b[0m\u001b[0mvmin\u001b[0m \u001b[0;32mis\u001b[0m \u001b[0mNone\u001b[0m\u001b[0;34m)\u001b[0m \u001b[0;32mor\u001b[0m \u001b[0;34m(\u001b[0m\u001b[0mvmax\u001b[0m \u001b[0;32mis\u001b[0m \u001b[0mNone\u001b[0m\u001b[0;34m)\u001b[0m\u001b[0;34m:\u001b[0m\u001b[0;34m\u001b[0m\u001b[0m\n\u001b[1;32m   1163\u001b[0m         \u001b[0mstats\u001b[0m \u001b[0;34m=\u001b[0m \u001b[0msitk\u001b[0m\u001b[0;34m.\u001b[0m\u001b[0mStatisticsImageFilter\u001b[0m\u001b[0;34m(\u001b[0m\u001b[0;34m)\u001b[0m\u001b[0;34m\u001b[0m\u001b[0m\n\u001b[0;32m-> 1164\u001b[0;31m         \u001b[0mstats\u001b[0m\u001b[0;34m.\u001b[0m\u001b[0mExecute\u001b[0m\u001b[0;34m(\u001b[0m\u001b[0mimg\u001b[0m\u001b[0;34m)\u001b[0m\u001b[0;34m\u001b[0m\u001b[0m\n\u001b[0m\u001b[1;32m   1165\u001b[0m         \u001b[0;32mif\u001b[0m \u001b[0mvmin\u001b[0m \u001b[0;32mis\u001b[0m \u001b[0mNone\u001b[0m\u001b[0;34m:\u001b[0m \u001b[0mvmin\u001b[0m \u001b[0;34m=\u001b[0m \u001b[0mstats\u001b[0m\u001b[0;34m.\u001b[0m\u001b[0mGetMinimum\u001b[0m\u001b[0;34m(\u001b[0m\u001b[0;34m)\u001b[0m\u001b[0;34m\u001b[0m\u001b[0m\n\u001b[1;32m   1166\u001b[0m         \u001b[0;32mif\u001b[0m \u001b[0mvmax\u001b[0m \u001b[0;32mis\u001b[0m \u001b[0mNone\u001b[0m\u001b[0;34m:\u001b[0m \u001b[0mvmax\u001b[0m \u001b[0;34m=\u001b[0m \u001b[0mstats\u001b[0m\u001b[0;34m.\u001b[0m\u001b[0mGetMaximum\u001b[0m\u001b[0;34m(\u001b[0m\u001b[0;34m)\u001b[0m\u001b[0;34m\u001b[0m\u001b[0m\n",
      "\u001b[0;32m/usr/local/lib/python2.7/dist-packages/SimpleITK/SimpleITK.pyc\u001b[0m in \u001b[0;36mExecute\u001b[0;34m(self, image1)\u001b[0m\n\u001b[1;32m  62822\u001b[0m \u001b[0;34m\u001b[0m\u001b[0m\n\u001b[1;32m  62823\u001b[0m         \"\"\"\n\u001b[0;32m> 62824\u001b[0;31m         \u001b[0;32mreturn\u001b[0m \u001b[0m_SimpleITK\u001b[0m\u001b[0;34m.\u001b[0m\u001b[0mStatisticsImageFilter_Execute\u001b[0m\u001b[0;34m(\u001b[0m\u001b[0mself\u001b[0m\u001b[0;34m,\u001b[0m \u001b[0mimage1\u001b[0m\u001b[0;34m)\u001b[0m\u001b[0;34m\u001b[0m\u001b[0m\n\u001b[0m\u001b[1;32m  62825\u001b[0m \u001b[0;34m\u001b[0m\u001b[0m\n\u001b[1;32m  62826\u001b[0m \u001b[0mStatisticsImageFilter_swigregister\u001b[0m \u001b[0;34m=\u001b[0m \u001b[0m_SimpleITK\u001b[0m\u001b[0;34m.\u001b[0m\u001b[0mStatisticsImageFilter_swigregister\u001b[0m\u001b[0;34m\u001b[0m\u001b[0m\n",
      "\u001b[0;31mTypeError\u001b[0m: in method 'StatisticsImageFilter_Execute', argument 2 of type 'itk::simple::Image const &'"
     ]
    },
    {
     "data": {
      "text/plain": [
       "<matplotlib.figure.Figure at 0x7fe095641190>"
      ]
     },
     "metadata": {},
     "output_type": "display_data"
    }
   ],
   "source": [
    "#cv2.imwrite('clahe_2.jpg',cl1)\n",
    "#cv2.startWindowThread()\n",
    "#cv2.namedWindow(\"adaptive\")\n",
    "# cv2.imshow(\"adaptive\", cl1)\n",
    "#cv2.imshow(\"adaptive\", threshed)\n",
    "#plt.imshow(threshed)\n",
    "\n",
    "# imgShow(cl1, vmax = 500\n"
   ]
  },
  {
   "cell_type": "code",
   "execution_count": 20,
   "metadata": {
    "collapsed": true
   },
   "outputs": [],
   "source": [
    "localimgflat = cl1 #cl1.reshape(-1)\n",
    "\n",
    "newer_img = localimgflat.reshape(x_value, y_value, z_value)"
   ]
  },
  {
   "cell_type": "code",
   "execution_count": 22,
   "metadata": {
    "collapsed": false
   },
   "outputs": [
    {
     "name": "stdout",
     "output_type": "stream",
     "text": [
      "(405, 272, 537)\n",
      "[[[  3   3   3 ...,   3   3   3]\n",
      "  [  3   3   3 ...,   3   3   3]\n",
      "  [  3   3   3 ...,   3   3   3]\n",
      "  ..., \n",
      "  [  3   3   3 ..., 255   3 255]\n",
      "  [  3   3   3 ...,   3   3   3]\n",
      "  [  3   3   3 ...,   3   3   3]]\n",
      "\n",
      " [[  3   3   3 ...,   3   3   3]\n",
      "  [  3   3   3 ..., 252   3   3]\n",
      "  [  3   3   3 ...,   3 252   3]\n",
      "  ..., \n",
      "  [  3   3   3 ..., 252 252   3]\n",
      "  [  3   3   3 ...,   3   3   3]\n",
      "  [  3   3   3 ...,   3 252   3]]\n",
      "\n",
      " [[  3   3   3 ...,   3 249   3]\n",
      "  [  3   3   3 ..., 255 244   3]\n",
      "  [  3   3   3 ..., 255   3   3]\n",
      "  ..., \n",
      "  [  3   3   3 ...,   3   3   3]\n",
      "  [  3   3   3 ..., 255 252   3]\n",
      "  [  3   3   3 ..., 255 249   3]]\n",
      "\n",
      " ..., \n",
      " [[  3   3   3 ...,   3   3   3]\n",
      "  [  3   3   3 ...,   3   3   3]\n",
      "  [  3   3   3 ...,   3   3   3]\n",
      "  ..., \n",
      "  [  3   3   3 ...,   3   3   3]\n",
      "  [  3   3   3 ...,   3   3   3]\n",
      "  [  3   3   3 ...,   3   3   3]]\n",
      "\n",
      " [[  3   3   3 ...,   3   3   3]\n",
      "  [  3   3   3 ...,   3   3   3]\n",
      "  [  3   3   3 ...,   3   3   3]\n",
      "  ..., \n",
      "  [  3   3   3 ...,   3   3   3]\n",
      "  [  3   3   3 ...,   3   3   3]\n",
      "  [  3   3   3 ...,   3   3   3]]\n",
      "\n",
      " [[  3   3   3 ...,   3   3   3]\n",
      "  [  3   3   3 ...,   3   3   3]\n",
      "  [  3   3   3 ...,   3   3   3]\n",
      "  ..., \n",
      "  [  3   3   3 ...,   3   3   3]\n",
      "  [  3   3   3 ...,   3   3   3]\n",
      "  [  3   3   3 ...,   3   3   3]]]\n"
     ]
    }
   ],
   "source": [
    "print(newer_img.shape)\n",
    "print(newer_img)\n",
    "# (405, 272, 537)"
   ]
  },
  {
   "cell_type": "code",
   "execution_count": 24,
   "metadata": {
    "collapsed": false
   },
   "outputs": [
    {
     "data": {
      "text/plain": [
       "[<matplotlib.lines.Line2D at 0x7f013cc2bfd0>]"
      ]
     },
     "execution_count": 24,
     "metadata": {},
     "output_type": "execute_result"
    },
    {
     "data": {
      "image/png": "[encoded data removed]",
      "text/plain": [
       "<matplotlib.figure.Figure at 0x7f0132284a90>"
      ]
     },
     "metadata": {},
     "output_type": "display_data"
    }
   ],
   "source": [
    "(values, bins) = np.histogram(newer_img, bins=100, range=(0,500))\n",
    "plt.plot(bins[:-1], values)"
   ]
  },
  {
   "cell_type": "code",
   "execution_count": 51,
   "metadata": {
    "collapsed": false
   },
   "outputs": [],
   "source": [
    "localeq = nib.Nifti1Image(newer_img, np.eye(4))\n",
    "dir_name = 'histeq'\n",
    "make_sure_path_exists(dir_name)\n",
    "nib.save(localeq, dir_name + '/' + \"Fear199\" + '_histeq.nii')"
   ]
  },
  {
   "cell_type": "code",
   "execution_count": 52,
   "metadata": {
    "collapsed": false
   },
   "outputs": [
    {
     "name": "stdout",
     "output_type": "stream",
     "text": [
      "shape:\n",
      "(405, 272, 537)\n",
      "<type 'numpy.ndarray'>\n",
      "max:\n",
      "255\n"
     ]
    }
   ],
   "source": [
    "num_points = 10000\n",
    "\n",
    "## Sanity check for shape\n",
    "# temp_img.shape\n",
    "\n",
    "## Convert into np array (or memmap in this case)\n",
    "temp_data = newer_img\n",
    "# temp_shape = temp_img.shape\n",
    "temp_max = np.max(temp_data)\n",
    "\n",
    "print('shape:')\n",
    "print temp_data.shape\n",
    "print type(temp_data)\n",
    "\n",
    "print('max:')\n",
    "print(temp_max)\n",
    "\n",
    "# print(temp_data)\n",
    "\n",
    "temp_threshold = 0.025\n",
    "filt = temp_data > temp_threshold * temp_max\n",
    "# filt = temp_data\n",
    "\n"
   ]
  },
  {
   "cell_type": "code",
   "execution_count": 53,
   "metadata": {
    "collapsed": false
   },
   "outputs": [
    {
     "name": "stdout",
     "output_type": "stream",
     "text": [
      "(405, 272, 537)\n"
     ]
    }
   ],
   "source": [
    "print(temp_data.shape)"
   ]
  },
  {
   "cell_type": "code",
   "execution_count": 54,
   "metadata": {
    "collapsed": false
   },
   "outputs": [
    {
     "name": "stdout",
     "output_type": "stream",
     "text": [
      "total points: 39164705\n",
      "v.shape:\n",
      "(39164705,)\n",
      "x.size before filter: 39164705\n",
      "y.size before filter: 39164705\n",
      "z.size before filter: 39164705\n",
      "v.size before filter: 39164705\n",
      "x.size after filter: 10021\n",
      "y.size after filter: 10021\n",
      "z.size after filter: 10021\n",
      "v.size after filter: 10021\n",
      "Num Points: 10021\n"
     ]
    }
   ],
   "source": [
    "data_points = np.where(filt)\n",
    "x = data_points[0]\n",
    "y = data_points[1]\n",
    "z = data_points[2]\n",
    "\n",
    "intens = temp_data[filt]\n",
    "intens = np.int16(255 * (np.float32(intens) / np.float32(temp_max)))\n",
    "\n",
    "intens_shape = intens.shape\n",
    "\n",
    "total_points = intens.shape[0]\n",
    "\n",
    "print('total points: %d' % total_points)\n",
    "\n",
    "fraction = num_points / float(total_points)\n",
    "\n",
    "if fraction < 1.0:\n",
    "    # np.random.random returns random floats in the half-open interval [0.0, 1.0)\n",
    "    filt = np.random.random(size=intens_shape) < fraction\n",
    "    print('v.shape:')\n",
    "    print(intens_shape)\n",
    "    print('x.size before filter: %d' % x.size)\n",
    "    print('y.size before filter: %d' % y.size)\n",
    "    print('z.size before filter: %d' % z.size)\n",
    "    print('v.size before filter: %d' % intens.size)\n",
    "    x = x[filt]\n",
    "    y = y[filt]\n",
    "    z = z[filt]\n",
    "    intens = intens[filt]\n",
    "    print('x.size after filter: %d' % x.size)\n",
    "    print('y.size after filter: %d' % y.size)\n",
    "    print('z.size after filter: %d' % z.size)\n",
    "    print('v.size after filter: %d' % intens.size)\n",
    "\n",
    "\n",
    "temp_points = np.vstack([x, y, z, intens])\n",
    "temp_points = np.transpose(temp_points)\n",
    "print(\"Num Points: %d\"%(temp_points.shape[0]))\n",
    "\n"
   ]
  },
  {
   "cell_type": "code",
   "execution_count": 55,
   "metadata": {
    "collapsed": false
   },
   "outputs": [
    {
     "data": {
      "text/plain": [
       "[<matplotlib.lines.Line2D at 0x7f013a347a90>]"
      ]
     },
     "execution_count": 55,
     "metadata": {},
     "output_type": "execute_result"
    },
    {
     "data": {
      "image/png": "[encoded data removed]",
      "text/plain": [
       "<matplotlib.figure.Figure at 0x7f013cbce110>"
      ]
     },
     "metadata": {},
     "output_type": "display_data"
    }
   ],
   "source": [
    "(values, bins) = np.histogram(temp_points[:,3], bins=100, range=(0,255))\n",
    "plt.plot(bins[:-1], values)"
   ]
  },
  {
   "cell_type": "code",
   "execution_count": 56,
   "metadata": {
    "collapsed": true
   },
   "outputs": [],
   "source": [
    "resolution = (0.01872, 0.01872, 0.005)"
   ]
  },
  {
   "cell_type": "code",
   "execution_count": 57,
   "metadata": {
    "collapsed": true
   },
   "outputs": [],
   "source": [
    "seeds_hh = temp_points[temp_points[:, 3] > 250]"
   ]
  },
  {
   "cell_type": "code",
   "execution_count": 58,
   "metadata": {
    "collapsed": false
   },
   "outputs": [
    {
     "name": "stdout",
     "output_type": "stream",
     "text": [
      "(2776, 4)\n",
      "[[  0  10 259 252]\n",
      " [  0 114 244 255]\n",
      " [  0 221 504 255]\n",
      " ..., \n",
      " [382 230 176 252]\n",
      " [382 237 483 255]\n",
      " [382 271 345 252]]\n"
     ]
    }
   ],
   "source": [
    "print(seeds_hh.shape)\n",
    "print(seeds_hh)"
   ]
  },
  {
   "cell_type": "code",
   "execution_count": 59,
   "metadata": {
    "collapsed": false
   },
   "outputs": [],
   "source": [
    "array_to_plot(seeds_hh, \"Fear199\", resolution, outfile_name=\"Fear199_seeds_histeq_h\")"
   ]
  },
  {
   "cell_type": "code",
   "execution_count": 66,
   "metadata": {
    "collapsed": true
   },
   "outputs": [],
   "source": [
    "seeds_hl = temp_points[temp_points[:, 3] < 150]"
   ]
  },
  {
   "cell_type": "code",
   "execution_count": 67,
   "metadata": {
    "collapsed": false
   },
   "outputs": [
    {
     "name": "stdout",
     "output_type": "stream",
     "text": [
      "(1004, 4)\n",
      "[[ 29 138 268  97]\n",
      " [ 30 117 304 109]\n",
      " [ 32 163 274  96]\n",
      " ..., \n",
      " [341 139 290 142]\n",
      " [342 138 334 108]\n",
      " [347 140 336 145]]\n"
     ]
    }
   ],
   "source": [
    "print(seeds_hl.shape)\n",
    "print(seeds_hl)"
   ]
  },
  {
   "cell_type": "code",
   "execution_count": 68,
   "metadata": {
    "collapsed": false
   },
   "outputs": [],
   "source": [
    "array_to_plot(seeds_hl, \"Fear199\", resolution, outfile_name=\"Fear199_seeds_histeq_l\")"
   ]
  },
  {
   "cell_type": "code",
   "execution_count": null,
   "metadata": {
    "collapsed": true
   },
   "outputs": [],
   "source": []
  }
 ],
 "metadata": {
  "kernelspec": {
   "display_name": "Python 2",
   "language": "python",
   "name": "python2"
  },
  "language_info": {
   "codemirror_mode": {
    "name": "ipython",
    "version": 2
   },
   "file_extension": ".py",
   "mimetype": "text/x-python",
   "name": "python",
   "nbconvert_exporter": "python",
   "pygments_lexer": "ipython2",
   "version": "2.7.12"
  }
 },
 "nbformat": 4,
 "nbformat_minor": 1
}
